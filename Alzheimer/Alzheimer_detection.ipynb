{
  "nbformat": 4,
  "nbformat_minor": 0,
  "metadata": {
    "colab": {
      "name": "Alzheimer detection.ipynb",
      "provenance": []
    },
    "kernelspec": {
      "name": "python3",
      "display_name": "Python 3"
    },
    "language_info": {
      "name": "python"
    }
  },
  "cells": [
    {
      "cell_type": "code",
      "metadata": {
        "colab": {
          "base_uri": "https://localhost:8080/"
        },
        "id": "CfRayVXN-jsh",
        "outputId": "a89ef3c2-6056-4a0c-9d81-8b447442feae"
      },
      "source": [
        "from google.colab import drive\n",
        "drive.mount('/content/gdrive')"
      ],
      "execution_count": 1,
      "outputs": [
        {
          "output_type": "stream",
          "text": [
            "Mounted at /content/gdrive\n"
          ],
          "name": "stdout"
        }
      ]
    },
    {
      "cell_type": "code",
      "metadata": {
        "id": "M7zWZ7L_-qt6"
      },
      "source": [
        "import numpy as np\n",
        "import pandas as pd\n",
        "import seaborn as sns\n",
        "import tensorflow as tf\n",
        "import matplotlib.pyplot as plt\n",
        "\n",
        "import os\n",
        "from distutils.dir_util import copy_tree, remove_tree\n",
        "\n",
        "from PIL import Image\n",
        "from random import randint\n",
        "\n",
        "from imblearn.over_sampling import SMOTE\n",
        "from sklearn.model_selection import train_test_split\n",
        "from sklearn.metrics import matthews_corrcoef as MCC\n",
        "from sklearn.metrics import balanced_accuracy_score as BAS\n",
        "from sklearn.metrics import classification_report, confusion_matrix\n",
        "\n",
        "import tensorflow_addons as tfa\n",
        "from keras.utils.vis_utils import plot_model\n",
        "from tensorflow.keras import Sequential, Input\n",
        "from tensorflow.keras.layers import Dense, Dropout\n",
        "from tensorflow.keras.layers import Conv2D, Flatten\n",
        "from tensorflow.keras.callbacks import EarlyStopping\n",
        "from tensorflow.keras.applications.inception_v3 import InceptionV3\n",
        "from tensorflow.keras.preprocessing.image import ImageDataGenerator as IDG\n",
        "from tensorflow.keras.layers import SeparableConv2D, BatchNormalization, MaxPool2D"
      ],
      "execution_count": 4,
      "outputs": []
    },
    {
      "cell_type": "code",
      "metadata": {
        "id": "M_ZRZq5K-qnQ"
      },
      "source": [
        "BASE_DIR = \"/content/gdrive/MyDrive/Alzheimer_s Dataset/\"\n",
        "TRAIN_DIR = BASE_DIR + 'train'\n",
        "TEST_DIR = BASE_DIR + 'test'\n",
        "\n",
        "CLASSES = [ 'NonDemented',\n",
        "            'VeryMildDemented',\n",
        "            'MildDemented',\n",
        "            'ModerateDemented']\n",
        "\n",
        "IMG_SIZE = 176\n",
        "IMAGE_SIZE = [176, 176]\n",
        "DIM = (IMG_SIZE, IMG_SIZE)"
      ],
      "execution_count": 5,
      "outputs": []
    },
    {
      "cell_type": "code",
      "metadata": {
        "colab": {
          "base_uri": "https://localhost:8080/"
        },
        "id": "rwXWN64U-qlJ",
        "outputId": "1736ddd4-889e-4b33-f772-1636c1fbd002"
      },
      "source": [
        "ZOOM = [.99, 1.01]\n",
        "BRIGHT_RANGE = [0.8, 1.2]\n",
        "HORZ_FLIP = True\n",
        "FILL_MODE = \"constant\"\n",
        "DATA_FORMAT = \"channels_last\"\n",
        "\n",
        "datagen = IDG(\n",
        "    rescale = 1./255, \n",
        "    brightness_range=BRIGHT_RANGE, \n",
        "    zoom_range=ZOOM, \n",
        "    data_format=DATA_FORMAT, \n",
        "    fill_mode=FILL_MODE, \n",
        "    horizontal_flip=HORZ_FLIP\n",
        ")\n",
        "\n",
        "train_data_gen = datagen.flow_from_directory(directory=TRAIN_DIR, target_size=DIM, batch_size=6500, shuffle=False)"
      ],
      "execution_count": 6,
      "outputs": [
        {
          "output_type": "stream",
          "text": [
            "Found 5121 images belonging to 4 classes.\n"
          ],
          "name": "stdout"
        }
      ]
    },
    {
      "cell_type": "code",
      "metadata": {
        "colab": {
          "base_uri": "https://localhost:8080/"
        },
        "id": "7nUt9GA0CzrZ",
        "outputId": "f7219278-9c04-4525-a50c-a0be964ce570"
      },
      "source": [
        "#Retrieving the data from the ImageDataGenerator iterator\n",
        "\n",
        "train_data, train_labels = train_data_gen.next()\n",
        "\n",
        "#Getting to know the dimensions of our dataset\n",
        "\n",
        "print(train_data.shape, train_labels.shape)"
      ],
      "execution_count": 7,
      "outputs": [
        {
          "output_type": "stream",
          "text": [
            "(5121, 176, 176, 3) (5121, 4)\n"
          ],
          "name": "stdout"
        }
      ]
    },
    {
      "cell_type": "code",
      "metadata": {
        "colab": {
          "base_uri": "https://localhost:8080/"
        },
        "id": "GV8GflS7CMxp",
        "outputId": "2e6d38e4-1c85-40bd-804f-b2a04771a826"
      },
      "source": [
        "#Performing over-sampling of the data, since the classes are imbalanced\n",
        "\n",
        "# sm = SMOTE(random_state=42)\n",
        "\n",
        "# train_data, train_labels = sm.fit_resample(train_data.reshape(-1, IMG_SIZE * IMG_SIZE * 3), train_labels)\n",
        "\n",
        "# train_data = train_data.reshape(-1, IMG_SIZE, IMG_SIZE, 3)\n",
        "\n",
        "# print(train_data.shape, train_labels.shape)"
      ],
      "execution_count": null,
      "outputs": [
        {
          "output_type": "stream",
          "text": [
            "/usr/local/lib/python3.7/dist-packages/sklearn/utils/deprecation.py:87: FutureWarning: Function safe_indexing is deprecated; safe_indexing is deprecated in version 0.22 and will be removed in version 0.24.\n",
            "  warnings.warn(msg, category=FutureWarning)\n",
            "/usr/local/lib/python3.7/dist-packages/sklearn/utils/deprecation.py:87: FutureWarning: Function safe_indexing is deprecated; safe_indexing is deprecated in version 0.22 and will be removed in version 0.24.\n",
            "  warnings.warn(msg, category=FutureWarning)\n",
            "/usr/local/lib/python3.7/dist-packages/sklearn/utils/deprecation.py:87: FutureWarning: Function safe_indexing is deprecated; safe_indexing is deprecated in version 0.22 and will be removed in version 0.24.\n",
            "  warnings.warn(msg, category=FutureWarning)\n"
          ],
          "name": "stderr"
        }
      ]
    },
    {
      "cell_type": "code",
      "metadata": {
        "id": "eUPkIuTaCOrK"
      },
      "source": [
        "#Splitting the data into train, test, and validation sets\n",
        "\n",
        "train_data, test_data, train_labels, test_labels = train_test_split(train_data, train_labels, test_size = 0.2, random_state=42)\n",
        "train_data, val_data, train_labels, val_labels = train_test_split(train_data, train_labels, test_size = 0.2, random_state=42)"
      ],
      "execution_count": 8,
      "outputs": []
    },
    {
      "cell_type": "code",
      "metadata": {
        "id": "_BeUGxgoCOmX"
      },
      "source": [
        "def conv_block(filters, act='relu'):\n",
        "    \"\"\"Defining a Convolutional NN block for a Sequential CNN model. \"\"\"\n",
        "    \n",
        "    block = Sequential()\n",
        "    block.add(Conv2D(filters, 3, activation=act, padding='same'))\n",
        "    block.add(Conv2D(filters, 3, activation=act, padding='same'))\n",
        "    block.add(BatchNormalization())\n",
        "    block.add(MaxPool2D())\n",
        "    \n",
        "    return block\n",
        "\n",
        "def dense_block(units, dropout_rate, act='relu'):\n",
        "    \"\"\"Defining a Dense NN block for a Sequential CNN model. \"\"\"\n",
        "    \n",
        "    block = Sequential()\n",
        "    block.add(Dense(units, activation=act))\n",
        "    block.add(BatchNormalization())\n",
        "    block.add(Dropout(dropout_rate))\n",
        "    \n",
        "    return block\n",
        "\n",
        "def construct_model(act='relu'):\n",
        "    \"\"\"Constructing a Sequential CNN architecture for performing the classification task. \"\"\"\n",
        "    \n",
        "    model = Sequential([\n",
        "        Input(shape=(*IMAGE_SIZE, 3)),\n",
        "        Conv2D(16, 3, activation=act, padding='same'),\n",
        "        Conv2D(16, 3, activation=act, padding='same'),\n",
        "        MaxPool2D(),\n",
        "        conv_block(32),\n",
        "        conv_block(64),\n",
        "        conv_block(128),\n",
        "        Dropout(0.2),\n",
        "        conv_block(256),\n",
        "        Dropout(0.2),\n",
        "        Flatten(),\n",
        "        dense_block(512, 0.7),\n",
        "        dense_block(128, 0.5),\n",
        "        dense_block(64, 0.3),\n",
        "        Dense(4, activation='softmax')        \n",
        "    ], name = \"cnn_model\")\n",
        "\n",
        "    return model"
      ],
      "execution_count": 9,
      "outputs": []
    },
    {
      "cell_type": "code",
      "metadata": {
        "id": "kW-_e2KPCOj_"
      },
      "source": [
        "#Defining a custom callback function to stop training our model when accuracy goes above 99%\n",
        "\n",
        "class MyCallback(tf.keras.callbacks.Callback):\n",
        "    def on_epoch_end(self, epoch, logs={}):\n",
        "        if logs.get('val_acc') > 0.99:\n",
        "            print(\"\\nReached accuracy threshold! Terminating training.\")\n",
        "            self.model.stop_training = True\n",
        "            \n",
        "my_callback = MyCallback()\n",
        "\n",
        "#EarlyStopping callback to make sure model is always learning\n",
        "early_stopping = EarlyStopping(monitor='val_loss', patience=2)"
      ],
      "execution_count": 10,
      "outputs": []
    },
    {
      "cell_type": "code",
      "metadata": {
        "id": "Oi3bGlbKCOho"
      },
      "source": [
        "model = construct_model()\n",
        "\n",
        "METRICS = [tf.keras.metrics.CategoricalAccuracy(name='acc'),\n",
        "           tf.keras.metrics.AUC(name='auc'), \n",
        "           tfa.metrics.F1Score(num_classes=4)]\n",
        "\n",
        "CALLBACKS = [my_callback]\n",
        "    \n",
        "model.compile(optimizer='adam',\n",
        "              loss=tf.losses.CategoricalCrossentropy(),\n",
        "              metrics=METRICS)\n",
        "\n",
        "# model.summary()"
      ],
      "execution_count": 11,
      "outputs": []
    },
    {
      "cell_type": "code",
      "metadata": {
        "colab": {
          "base_uri": "https://localhost:8080/"
        },
        "id": "W6M-SSsReyx6",
        "outputId": "69a463cf-c440-4a3c-cd91-21c25a1795bc"
      },
      "source": [
        "#Fit the training data to the model and validate it using the validation data\n",
        "EPOCHS = 50\n",
        "\n",
        "history = model.fit(train_data, train_labels, validation_data=(val_data, val_labels), callbacks=CALLBACKS, epochs=EPOCHS)"
      ],
      "execution_count": 12,
      "outputs": [
        {
          "output_type": "stream",
          "text": [
            "Epoch 1/50\n",
            "103/103 [==============================] - 336s 3s/step - loss: 1.9047 - acc: 0.3217 - auc: 0.5658 - f1_score: 0.2412 - val_loss: 1.0675 - val_acc: 0.4878 - val_auc: 0.7896 - val_f1_score: 0.1756\n",
            "Epoch 2/50\n",
            "103/103 [==============================] - 339s 3s/step - loss: 1.3988 - acc: 0.4119 - auc: 0.6767 - f1_score: 0.2762 - val_loss: 1.8573 - val_acc: 0.4841 - val_auc: 0.7682 - val_f1_score: 0.1631\n",
            "Epoch 3/50\n",
            "103/103 [==============================] - 340s 3s/step - loss: 1.1854 - acc: 0.4772 - auc: 0.7556 - f1_score: 0.3109 - val_loss: 1.8870 - val_acc: 0.4878 - val_auc: 0.7716 - val_f1_score: 0.1697\n",
            "Epoch 4/50\n",
            "103/103 [==============================] - 344s 3s/step - loss: 1.0752 - acc: 0.4927 - auc: 0.7887 - f1_score: 0.2981 - val_loss: 3.5195 - val_acc: 0.4841 - val_auc: 0.7122 - val_f1_score: 0.1631\n",
            "Epoch 5/50\n",
            "103/103 [==============================] - 344s 3s/step - loss: 0.9954 - acc: 0.5231 - auc: 0.8160 - f1_score: 0.3185 - val_loss: 1.3689 - val_acc: 0.1927 - val_auc: 0.5800 - val_f1_score: 0.1273\n",
            "Epoch 6/50\n",
            "103/103 [==============================] - 341s 3s/step - loss: 1.0040 - acc: 0.5322 - auc: 0.8118 - f1_score: 0.3198 - val_loss: 2.0550 - val_acc: 0.4841 - val_auc: 0.7903 - val_f1_score: 0.1631\n",
            "Epoch 7/50\n",
            "103/103 [==============================] - 338s 3s/step - loss: 0.9289 - acc: 0.5440 - auc: 0.8335 - f1_score: 0.3392 - val_loss: 1.6549 - val_acc: 0.4841 - val_auc: 0.8123 - val_f1_score: 0.1634\n",
            "Epoch 8/50\n",
            "103/103 [==============================] - 337s 3s/step - loss: 0.9263 - acc: 0.5373 - auc: 0.8320 - f1_score: 0.3375 - val_loss: 0.9701 - val_acc: 0.5512 - val_auc: 0.8188 - val_f1_score: 0.3555\n",
            "Epoch 9/50\n",
            "103/103 [==============================] - 338s 3s/step - loss: 0.9027 - acc: 0.5690 - auc: 0.8432 - f1_score: 0.3584 - val_loss: 0.9372 - val_acc: 0.5500 - val_auc: 0.8310 - val_f1_score: 0.3538\n",
            "Epoch 10/50\n",
            "103/103 [==============================] - 338s 3s/step - loss: 0.8956 - acc: 0.5607 - auc: 0.8453 - f1_score: 0.3518 - val_loss: 1.7825 - val_acc: 0.4866 - val_auc: 0.7976 - val_f1_score: 0.1671\n",
            "Epoch 11/50\n",
            "103/103 [==============================] - 338s 3s/step - loss: 0.9126 - acc: 0.5548 - auc: 0.8370 - f1_score: 0.3429 - val_loss: 1.3495 - val_acc: 0.2159 - val_auc: 0.6060 - val_f1_score: 0.1424\n",
            "Epoch 12/50\n",
            "103/103 [==============================] - 338s 3s/step - loss: 0.8823 - acc: 0.5828 - auc: 0.8534 - f1_score: 0.3680 - val_loss: 0.9050 - val_acc: 0.5610 - val_auc: 0.8449 - val_f1_score: 0.3025\n",
            "Epoch 13/50\n",
            "103/103 [==============================] - 338s 3s/step - loss: 0.8430 - acc: 0.5842 - auc: 0.8608 - f1_score: 0.3746 - val_loss: 1.6609 - val_acc: 0.4927 - val_auc: 0.8152 - val_f1_score: 0.1764\n",
            "Epoch 14/50\n",
            "103/103 [==============================] - 336s 3s/step - loss: 0.8605 - acc: 0.5809 - auc: 0.8582 - f1_score: 0.3838 - val_loss: 1.2724 - val_acc: 0.5183 - val_auc: 0.8337 - val_f1_score: 0.2323\n",
            "Epoch 15/50\n",
            "103/103 [==============================] - 338s 3s/step - loss: 0.8150 - acc: 0.5958 - auc: 0.8700 - f1_score: 0.4002 - val_loss: 0.8832 - val_acc: 0.5707 - val_auc: 0.8591 - val_f1_score: 0.3052\n",
            "Epoch 16/50\n",
            "103/103 [==============================] - 339s 3s/step - loss: 0.8004 - acc: 0.6179 - auc: 0.8778 - f1_score: 0.4264 - val_loss: 0.8341 - val_acc: 0.5939 - val_auc: 0.8696 - val_f1_score: 0.3908\n",
            "Epoch 17/50\n",
            "103/103 [==============================] - 337s 3s/step - loss: 0.7619 - acc: 0.6512 - auc: 0.8915 - f1_score: 0.4527 - val_loss: 1.0240 - val_acc: 0.4329 - val_auc: 0.7842 - val_f1_score: 0.2365\n",
            "Epoch 18/50\n",
            "103/103 [==============================] - 339s 3s/step - loss: 0.7908 - acc: 0.6248 - auc: 0.8821 - f1_score: 0.4404 - val_loss: 0.9173 - val_acc: 0.5878 - val_auc: 0.8497 - val_f1_score: 0.3877\n",
            "Epoch 19/50\n",
            "103/103 [==============================] - 340s 3s/step - loss: 0.7623 - acc: 0.6265 - auc: 0.8874 - f1_score: 0.4388 - val_loss: 2.2993 - val_acc: 0.2256 - val_auc: 0.6001 - val_f1_score: 0.1551\n",
            "Epoch 20/50\n",
            "103/103 [==============================] - 338s 3s/step - loss: 0.6892 - acc: 0.6900 - auc: 0.9127 - f1_score: 0.4899 - val_loss: 0.8177 - val_acc: 0.6159 - val_auc: 0.8729 - val_f1_score: 0.4343\n",
            "Epoch 21/50\n",
            "103/103 [==============================] - 337s 3s/step - loss: 0.6798 - acc: 0.6887 - auc: 0.9139 - f1_score: 0.4913 - val_loss: 1.7509 - val_acc: 0.2537 - val_auc: 0.6363 - val_f1_score: 0.1805\n",
            "Epoch 22/50\n",
            "103/103 [==============================] - 338s 3s/step - loss: 0.6739 - acc: 0.6994 - auc: 0.9168 - f1_score: 0.4947 - val_loss: 2.8969 - val_acc: 0.4841 - val_auc: 0.7603 - val_f1_score: 0.1638\n",
            "Epoch 23/50\n",
            "103/103 [==============================] - 337s 3s/step - loss: 0.6364 - acc: 0.7375 - auc: 0.9268 - f1_score: 0.5303 - val_loss: 3.2777 - val_acc: 0.1841 - val_auc: 0.5279 - val_f1_score: 0.1212\n",
            "Epoch 24/50\n",
            "103/103 [==============================] - 336s 3s/step - loss: 0.5983 - acc: 0.7369 - auc: 0.9341 - f1_score: 0.5281 - val_loss: 3.7682 - val_acc: 0.1707 - val_auc: 0.4487 - val_f1_score: 0.1057\n",
            "Epoch 25/50\n",
            "103/103 [==============================] - 337s 3s/step - loss: 0.5815 - acc: 0.7705 - auc: 0.9397 - f1_score: 0.5635 - val_loss: 0.8495 - val_acc: 0.5927 - val_auc: 0.8673 - val_f1_score: 0.4440\n",
            "Epoch 26/50\n",
            "103/103 [==============================] - 337s 3s/step - loss: 0.5436 - acc: 0.7684 - auc: 0.9462 - f1_score: 0.5566 - val_loss: 1.1304 - val_acc: 0.4878 - val_auc: 0.8044 - val_f1_score: 0.3711\n",
            "Epoch 27/50\n",
            "103/103 [==============================] - 337s 3s/step - loss: 0.4974 - acc: 0.8036 - auc: 0.9562 - f1_score: 0.5877 - val_loss: 0.9481 - val_acc: 0.6695 - val_auc: 0.8960 - val_f1_score: 0.4012\n",
            "Epoch 28/50\n",
            "103/103 [==============================] - 337s 3s/step - loss: 0.4474 - acc: 0.8242 - auc: 0.9632 - f1_score: 0.5957 - val_loss: 0.9953 - val_acc: 0.6354 - val_auc: 0.8884 - val_f1_score: 0.3363\n",
            "Epoch 29/50\n",
            "103/103 [==============================] - 336s 3s/step - loss: 0.3875 - acc: 0.8481 - auc: 0.9724 - f1_score: 0.6153 - val_loss: 0.7645 - val_acc: 0.6939 - val_auc: 0.9084 - val_f1_score: 0.5023\n",
            "Epoch 30/50\n",
            "103/103 [==============================] - 336s 3s/step - loss: 0.4721 - acc: 0.8029 - auc: 0.9598 - f1_score: 0.5792 - val_loss: 1.0576 - val_acc: 0.5939 - val_auc: 0.8571 - val_f1_score: 0.4355\n",
            "Epoch 31/50\n",
            "103/103 [==============================] - 336s 3s/step - loss: 0.3466 - acc: 0.8751 - auc: 0.9781 - f1_score: 0.6386 - val_loss: 1.9171 - val_acc: 0.4280 - val_auc: 0.7370 - val_f1_score: 0.3123\n",
            "Epoch 32/50\n",
            "103/103 [==============================] - 334s 3s/step - loss: 0.3681 - acc: 0.8578 - auc: 0.9749 - f1_score: 0.6272 - val_loss: 2.3148 - val_acc: 0.3280 - val_auc: 0.6503 - val_f1_score: 0.2469\n",
            "Epoch 33/50\n",
            "103/103 [==============================] - 334s 3s/step - loss: 0.2656 - acc: 0.9072 - auc: 0.9866 - f1_score: 0.6678 - val_loss: 1.1110 - val_acc: 0.5756 - val_auc: 0.8505 - val_f1_score: 0.4293\n",
            "Epoch 34/50\n",
            "103/103 [==============================] - 334s 3s/step - loss: 0.3094 - acc: 0.8920 - auc: 0.9819 - f1_score: 0.6531 - val_loss: 1.2569 - val_acc: 0.6427 - val_auc: 0.8842 - val_f1_score: 0.3974\n",
            "Epoch 35/50\n",
            "103/103 [==============================] - 334s 3s/step - loss: 0.2513 - acc: 0.9106 - auc: 0.9882 - f1_score: 0.6724 - val_loss: 1.3035 - val_acc: 0.6293 - val_auc: 0.8816 - val_f1_score: 0.3188\n",
            "Epoch 36/50\n",
            "103/103 [==============================] - 334s 3s/step - loss: 0.2099 - acc: 0.9234 - auc: 0.9918 - f1_score: 0.6891 - val_loss: 0.6814 - val_acc: 0.7341 - val_auc: 0.9308 - val_f1_score: 0.5400\n",
            "Epoch 37/50\n",
            "103/103 [==============================] - 334s 3s/step - loss: 0.2671 - acc: 0.9037 - auc: 0.9864 - f1_score: 0.6714 - val_loss: 1.9539 - val_acc: 0.5622 - val_auc: 0.8249 - val_f1_score: 0.2667\n",
            "Epoch 38/50\n",
            "103/103 [==============================] - 337s 3s/step - loss: 0.2293 - acc: 0.9270 - auc: 0.9889 - f1_score: 0.7162 - val_loss: 0.6117 - val_acc: 0.7756 - val_auc: 0.9495 - val_f1_score: 0.5432\n",
            "Epoch 39/50\n",
            "103/103 [==============================] - 336s 3s/step - loss: 0.3187 - acc: 0.8804 - auc: 0.9802 - f1_score: 0.6812 - val_loss: 1.0484 - val_acc: 0.6085 - val_auc: 0.8653 - val_f1_score: 0.4554\n",
            "Epoch 40/50\n",
            "103/103 [==============================] - 336s 3s/step - loss: 0.2327 - acc: 0.9162 - auc: 0.9901 - f1_score: 0.6895 - val_loss: 0.5463 - val_acc: 0.8098 - val_auc: 0.9543 - val_f1_score: 0.5980\n",
            "Epoch 41/50\n",
            "103/103 [==============================] - 335s 3s/step - loss: 0.1730 - acc: 0.9361 - auc: 0.9943 - f1_score: 0.7355 - val_loss: 0.6954 - val_acc: 0.7805 - val_auc: 0.9399 - val_f1_score: 0.5459\n",
            "Epoch 42/50\n",
            "103/103 [==============================] - 335s 3s/step - loss: 0.1620 - acc: 0.9409 - auc: 0.9950 - f1_score: 0.7952 - val_loss: 0.6696 - val_acc: 0.7927 - val_auc: 0.9420 - val_f1_score: 0.6917\n",
            "Epoch 43/50\n",
            "103/103 [==============================] - 335s 3s/step - loss: 0.1858 - acc: 0.9351 - auc: 0.9926 - f1_score: 0.7937 - val_loss: 1.5366 - val_acc: 0.5537 - val_auc: 0.8301 - val_f1_score: 0.4096\n",
            "Epoch 44/50\n",
            "103/103 [==============================] - 334s 3s/step - loss: 0.1389 - acc: 0.9506 - auc: 0.9959 - f1_score: 0.8557 - val_loss: 0.8377 - val_acc: 0.7573 - val_auc: 0.9320 - val_f1_score: 0.6465\n",
            "Epoch 45/50\n",
            "103/103 [==============================] - 334s 3s/step - loss: 0.1342 - acc: 0.9554 - auc: 0.9952 - f1_score: 0.8322 - val_loss: 0.5265 - val_acc: 0.8268 - val_auc: 0.9616 - val_f1_score: 0.6104\n",
            "Epoch 46/50\n",
            "103/103 [==============================] - 335s 3s/step - loss: 0.1116 - acc: 0.9597 - auc: 0.9971 - f1_score: 0.8529 - val_loss: 0.7003 - val_acc: 0.7866 - val_auc: 0.9441 - val_f1_score: 0.6466\n",
            "Epoch 47/50\n",
            "103/103 [==============================] - 337s 3s/step - loss: 0.1281 - acc: 0.9569 - auc: 0.9957 - f1_score: 0.8835 - val_loss: 0.9628 - val_acc: 0.7146 - val_auc: 0.9136 - val_f1_score: 0.6341\n",
            "Epoch 48/50\n",
            "103/103 [==============================] - 339s 3s/step - loss: 0.1333 - acc: 0.9617 - auc: 0.9937 - f1_score: 0.8874 - val_loss: 0.6789 - val_acc: 0.8037 - val_auc: 0.9501 - val_f1_score: 0.7200\n",
            "Epoch 49/50\n",
            "103/103 [==============================] - 336s 3s/step - loss: 0.1289 - acc: 0.9524 - auc: 0.9965 - f1_score: 0.8632 - val_loss: 0.5548 - val_acc: 0.8317 - val_auc: 0.9592 - val_f1_score: 0.6195\n",
            "Epoch 50/50\n",
            "103/103 [==============================] - 335s 3s/step - loss: 0.1352 - acc: 0.9548 - auc: 0.9962 - f1_score: 0.8930 - val_loss: 0.6194 - val_acc: 0.8183 - val_auc: 0.9562 - val_f1_score: 0.7890\n"
          ],
          "name": "stdout"
        }
      ]
    },
    {
      "cell_type": "code",
      "metadata": {
        "id": "jpJM5PEFeze6"
      },
      "source": [
        "#Predicting the test data\n",
        "\n",
        "pred_labels = model.predict(test_data)"
      ],
      "execution_count": 13,
      "outputs": []
    },
    {
      "cell_type": "code",
      "metadata": {
        "colab": {
          "base_uri": "https://localhost:8080/",
          "height": 444
        },
        "id": "Hrfu0QNSezaK",
        "outputId": "ed2c406b-9ee7-4a98-fbe2-d04f268ca518"
      },
      "source": [
        "#Plot the confusion matrix to understand the classification in detail\n",
        "\n",
        "pred_ls = np.argmax(pred_labels, axis=1)\n",
        "test_ls = np.argmax(test_labels, axis=1)\n",
        "\n",
        "conf_arr = confusion_matrix(test_ls, pred_ls)\n",
        "\n",
        "plt.figure(figsize=(8, 6), dpi=80, facecolor='w', edgecolor='k')\n",
        "\n",
        "ax = sns.heatmap(conf_arr, cmap='Greens', annot=True, fmt='d', xticklabels=CLASSES, yticklabels=CLASSES)\n",
        "\n",
        "plt.title('Alzheimer\\'s Disease Diagnosis')\n",
        "plt.xlabel('Prediction')\n",
        "plt.ylabel('Truth')\n",
        "plt.show(ax)"
      ],
      "execution_count": 14,
      "outputs": [
        {
          "output_type": "display_data",
          "data": {
            "image/png": "[encoded data removed]",
            "text/plain": [
              "<Figure size 640x480 with 2 Axes>"
            ]
          },
          "metadata": {
            "tags": []
          }
        }
      ]
    },
    {
      "cell_type": "code",
      "metadata": {
        "id": "YjoDDXRmezW4"
      },
      "source": [
        "#Saving the model for future use\n",
        "\n",
        "model_dir = \"/content/gdrive/MyDrive/alzheimer_cnn_model\"\n",
        "model.save(model_dir, save_format='h5')"
      ],
      "execution_count": 15,
      "outputs": []
    }
  ]
}