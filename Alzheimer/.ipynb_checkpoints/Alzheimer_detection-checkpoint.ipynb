{
 "cells": [
  {
   "cell_type": "code",
   "execution_count": 5,
   "metadata": {
    "id": "M7zWZ7L_-qt6"
   },
   "outputs": [],
   "source": [
    "import numpy as np\n",
    "import pandas as pd\n",
    "import seaborn as sns\n",
    "import tensorflow as tf\n",
    "import matplotlib.pyplot as plt\n",
    "\n",
    "import os\n",
    "from distutils.dir_util import copy_tree, remove_tree\n",
    "\n",
    "from PIL import Image\n",
    "from random import randint\n",
    "\n",
    "from imblearn.over_sampling import SMOTE\n",
    "from sklearn.model_selection import train_test_split\n",
    "from sklearn.metrics import matthews_corrcoef as MCC\n",
    "from sklearn.metrics import balanced_accuracy_score as BAS\n",
    "from sklearn.metrics import classification_report, confusion_matrix\n",
    "\n",
    "import tensorflow_addons as tfa\n",
    "from keras.utils.vis_utils import plot_model\n",
    "from tensorflow.keras import Sequential, Input\n",
    "from tensorflow.keras.layers import Dense, Dropout,Conv2D, Flatten,SeparableConv2D, BatchNormalization, MaxPool2D\n",
    "from tensorflow.keras.callbacks import EarlyStopping\n",
    "from tensorflow.keras.applications.inception_v3 import InceptionV3\n",
    "from tensorflow.keras.preprocessing.image import ImageDataGenerator as IDG"
   ]
  },
  {
   "cell_type": "code",
   "execution_count": 6,
   "metadata": {
    "id": "M_ZRZq5K-qnQ"
   },
   "outputs": [],
   "source": [
    "BASE_DIR = \"Alzheimer_Dataset/\"\n",
    "TRAIN_DIR = BASE_DIR + 'train'\n",
    "TEST_DIR = BASE_DIR + 'test'\n",
    "\n",
    "CLASSES = [ 'NonDemented',\n",
    "            'VeryMildDemented',\n",
    "            'MildDemented',\n",
    "            'ModerateDemented']\n",
    "\n",
    "IMG_SIZE = 176\n",
    "IMAGE_SIZE = [176, 176]\n",
    "DIM = (IMG_SIZE, IMG_SIZE)"
   ]
  },
  {
   "cell_type": "code",
   "execution_count": 7,
   "metadata": {
    "colab": {
     "base_uri": "https://localhost:8080/"
    },
    "id": "rwXWN64U-qlJ",
    "outputId": "1736ddd4-889e-4b33-f772-1636c1fbd002"
   },
   "outputs": [
    {
     "name": "stdout",
     "output_type": "stream",
     "text": [
      "Found 5121 images belonging to 4 classes.\n"
     ]
    }
   ],
   "source": [
    "ZOOM = [.99, 1.01]\n",
    "BRIGHT_RANGE = [0.8, 1.2]\n",
    "HORZ_FLIP = True\n",
    "FILL_MODE = \"constant\"\n",
    "DATA_FORMAT = \"channels_last\"\n",
    "\n",
    "datagen = IDG(\n",
    "    rescale = 1./255, \n",
    "    brightness_range=BRIGHT_RANGE, \n",
    "    zoom_range=ZOOM, \n",
    "    data_format=DATA_FORMAT, \n",
    "    fill_mode=FILL_MODE, \n",
    "    horizontal_flip=HORZ_FLIP\n",
    ")\n",
    "\n",
    "train_data_gen = datagen.flow_from_directory(directory=TRAIN_DIR, target_size=DIM, batch_size=6500, shuffle=False)"
   ]
  },
  {
   "cell_type": "code",
   "execution_count": 8,
   "metadata": {
    "colab": {
     "base_uri": "https://localhost:8080/"
    },
    "id": "7nUt9GA0CzrZ",
    "outputId": "f7219278-9c04-4525-a50c-a0be964ce570"
   },
   "outputs": [
    {
     "name": "stdout",
     "output_type": "stream",
     "text": [
      "(5121, 176, 176, 3) (5121, 4)\n"
     ]
    }
   ],
   "source": [
    "#Retrieving the data from the ImageDataGenerator iterator\n",
    "\n",
    "train_data, train_labels = train_data_gen.next()\n",
    "\n",
    "#Getting to know the dimensions of our dataset\n",
    "\n",
    "print(train_data.shape, train_labels.shape)"
   ]
  },
  {
   "cell_type": "code",
   "execution_count": 9,
   "metadata": {
    "colab": {
     "base_uri": "https://localhost:8080/"
    },
    "id": "GV8GflS7CMxp",
    "outputId": "2e6d38e4-1c85-40bd-804f-b2a04771a826"
   },
   "outputs": [],
   "source": [
    "#Performing over-sampling of the data, since the classes are imbalanced\n",
    "\n",
    "# sm = SMOTE(random_state=42)\n",
    "\n",
    "# train_data, train_labels = sm.fit_resample(train_data.reshape(-1, IMG_SIZE * IMG_SIZE * 3), train_labels)\n",
    "\n",
    "# train_data = train_data.reshape(-1, IMG_SIZE, IMG_SIZE, 3)\n",
    "\n",
    "# print(train_data.shape, train_labels.shape)"
   ]
  },
  {
   "cell_type": "code",
   "execution_count": 10,
   "metadata": {
    "id": "eUPkIuTaCOrK"
   },
   "outputs": [],
   "source": [
    "#Splitting the data into train, test, and validation sets\n",
    "\n",
    "train_data, test_data, train_labels, test_labels = train_test_split(train_data, train_labels, test_size = 0.2, random_state=42)\n",
    "train_data, val_data, train_labels, val_labels = train_test_split(train_data, train_labels, test_size = 0.2, random_state=42)"
   ]
  },
  {
   "cell_type": "code",
   "execution_count": 11,
   "metadata": {
    "id": "_BeUGxgoCOmX"
   },
   "outputs": [],
   "source": [
    "def conv_block(filters, act='relu'):\n",
    "    \"\"\"Defining a Convolutional NN block for a Sequential CNN model. \"\"\"\n",
    "    \n",
    "    block = Sequential()\n",
    "    block.add(Conv2D(filters, 3, activation=act, padding='same'))\n",
    "    block.add(Conv2D(filters, 3, activation=act, padding='same'))\n",
    "    block.add(BatchNormalization())\n",
    "    block.add(MaxPool2D())\n",
    "    \n",
    "    return block\n",
    "\n",
    "def dense_block(units, dropout_rate, act='relu'):\n",
    "    \"\"\"Defining a Dense NN block for a Sequential CNN model. \"\"\"\n",
    "    \n",
    "    block = Sequential()\n",
    "    block.add(Dense(units, activation=act))\n",
    "    block.add(BatchNormalization())\n",
    "    block.add(Dropout(dropout_rate))\n",
    "    \n",
    "    return block\n",
    "\n",
    "def construct_model(act='relu'):\n",
    "    \"\"\"Constructing a Sequential CNN architecture for performing the classification task. \"\"\"\n",
    "    \n",
    "    model = Sequential([\n",
    "        Input(shape=(*IMAGE_SIZE, 3)),\n",
    "        Conv2D(16, 3, activation=act, padding='same'),\n",
    "        Conv2D(16, 3, activation=act, padding='same'),\n",
    "        MaxPool2D(),\n",
    "        conv_block(32),\n",
    "        conv_block(64),\n",
    "        conv_block(128),\n",
    "        Dropout(0.2),\n",
    "        conv_block(256),\n",
    "        Dropout(0.2),\n",
    "        Flatten(),\n",
    "        dense_block(512, 0.7),\n",
    "        dense_block(128, 0.5),\n",
    "        dense_block(64, 0.3),\n",
    "        Dense(4, activation='softmax')        \n",
    "    ], name = \"cnn_model\")\n",
    "\n",
    "    return model"
   ]
  },
  {
   "cell_type": "code",
   "execution_count": 12,
   "metadata": {
    "id": "kW-_e2KPCOj_"
   },
   "outputs": [],
   "source": [
    "#Defining a custom callback function to stop training our model when accuracy goes above 99%\n",
    "\n",
    "class MyCallback(tf.keras.callbacks.Callback):\n",
    "    def on_epoch_end(self, epoch, logs={}):\n",
    "        if logs.get('val_acc') > 0.99:\n",
    "            print(\"\\nReached accuracy threshold! Terminating training.\")\n",
    "            self.model.stop_training = True\n",
    "            \n",
    "my_callback = MyCallback()\n",
    "\n",
    "#EarlyStopping callback to make sure model is always learning\n",
    "early_stopping = EarlyStopping(monitor='val_loss', patience=2)"
   ]
  },
  {
   "cell_type": "code",
   "execution_count": 13,
   "metadata": {
    "id": "Oi3bGlbKCOho"
   },
   "outputs": [],
   "source": [
    "model = construct_model()\n",
    "\n",
    "METRICS = [tf.keras.metrics.CategoricalAccuracy(name='acc'),\n",
    "           tf.keras.metrics.AUC(name='auc'), \n",
    "           tfa.metrics.F1Score(num_classes=4)]\n",
    "\n",
    "CALLBACKS = [my_callback]\n",
    "    \n",
    "model.compile(optimizer='adam',\n",
    "              loss=tf.losses.CategoricalCrossentropy(),\n",
    "              metrics=METRICS)\n",
    "\n",
    "# model.summary()"
   ]
  },
  {
   "cell_type": "code",
   "execution_count": null,
   "metadata": {
    "colab": {
     "base_uri": "https://localhost:8080/"
    },
    "id": "W6M-SSsReyx6",
    "outputId": "69a463cf-c440-4a3c-cd91-21c25a1795bc"
   },
   "outputs": [
    {
     "name": "stdout",
     "output_type": "stream",
     "text": [
      "Epoch 1/50\n",
      " 22/103 [=====>........................] - ETA: 2:02 - loss: 1.9581 - acc: 0.2698 - auc: 0.5250 - f1_score: 0.2244"
     ]
    }
   ],
   "source": [
    "#Fit the training data to the model and validate it using the validation data\n",
    "EPOCHS = 50\n",
    "\n",
    "history = model.fit(train_data, train_labels, validation_data=(val_data, val_labels), callbacks=CALLBACKS, epochs=EPOCHS)\n",
    "model.save('alzheimer_model.h5')"
   ]
  },
  {
   "cell_type": "code",
   "execution_count": null,
   "metadata": {
    "id": "jpJM5PEFeze6"
   },
   "outputs": [],
   "source": [
    "#Predicting the test data\n",
    "\n",
    "pred_labels = model.predict(test_data)"
   ]
  },
  {
   "cell_type": "code",
   "execution_count": null,
   "metadata": {
    "colab": {
     "base_uri": "https://localhost:8080/",
     "height": 444
    },
    "id": "Hrfu0QNSezaK",
    "outputId": "ed2c406b-9ee7-4a98-fbe2-d04f268ca518"
   },
   "outputs": [],
   "source": [
    "#Plot the confusion matrix to understand the classification in detail\n",
    "\n",
    "pred_ls = np.argmax(pred_labels, axis=1)\n",
    "test_ls = np.argmax(test_labels, axis=1)\n",
    "\n",
    "conf_arr = confusion_matrix(test_ls, pred_ls)\n",
    "\n",
    "plt.figure(figsize=(8, 6), dpi=80, facecolor='w', edgecolor='k')\n",
    "\n",
    "ax = sns.heatmap(conf_arr, cmap='Greens', annot=True, fmt='d', xticklabels=CLASSES, yticklabels=CLASSES)\n",
    "\n",
    "plt.title('Alzheimer\\'s Disease Diagnosis')\n",
    "plt.xlabel('Prediction')\n",
    "plt.ylabel('Truth')\n",
    "plt.show(ax)"
   ]
  }
 ],
 "metadata": {
  "colab": {
   "name": "Alzheimer detection.ipynb",
   "provenance": []
  },
  "kernelspec": {
   "display_name": "Python 3",
   "language": "python",
   "name": "python3"
  },
  "language_info": {
   "codemirror_mode": {
    "name": "ipython",
    "version": 3
   },
   "file_extension": ".py",
   "mimetype": "text/x-python",
   "name": "python",
   "nbconvert_exporter": "python",
   "pygments_lexer": "ipython3",
   "version": "3.7.10"
  }
 },
 "nbformat": 4,
 "nbformat_minor": 1
}
